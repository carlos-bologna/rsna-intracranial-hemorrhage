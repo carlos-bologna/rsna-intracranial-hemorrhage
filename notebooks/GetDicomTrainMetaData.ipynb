{
 "cells": [
  {
   "cell_type": "code",
   "execution_count": 1,
   "metadata": {},
   "outputs": [],
   "source": [
    "import pandas as pd\n",
    "from tqdm import tqdm\n",
    "import os\n",
    "import pydicom\n",
    "from ast import literal_eval"
   ]
  },
  {
   "cell_type": "markdown",
   "metadata": {},
   "source": [
    "# Read Files"
   ]
  },
  {
   "cell_type": "code",
   "execution_count": 9,
   "metadata": {},
   "outputs": [],
   "source": [
    "BASE_DIR = '/srv/app/data'\n",
    "\n",
    "DATA_DIR = BASE_DIR + '/data'\n",
    "\n",
    "TRAIN_DIR = DATA_DIR + '/stage_2_train_images'\n",
    "\n",
    "files_list = os.listdir(TRAIN_DIR)"
   ]
  },
  {
   "cell_type": "code",
   "execution_count": 10,
   "metadata": {},
   "outputs": [],
   "source": [
    "def read_dicom(file):\n",
    "    dc_file = pydicom.dcmread(file)\n",
    "    output = dict()\n",
    "    for element in dc_file:\n",
    "        if element.tag != 'PixelData':\n",
    "            output[element.tag] = element.value\n",
    "    return output"
   ]
  },
  {
   "cell_type": "code",
   "execution_count": 11,
   "metadata": {},
   "outputs": [
    {
     "name": "stderr",
     "output_type": "stream",
     "text": [
      "100%|██████████| 121232/121232 [17:47<00:00, 113.55it/s]\n"
     ]
    }
   ],
   "source": [
    "train_metadata = []\n",
    "for i in tqdm(range(len(files_list))):\n",
    "    train_metadata.append(read_dicom(str(TRAIN_DIR) + '/' +str(files_list[i])))"
   ]
  },
  {
   "cell_type": "markdown",
   "metadata": {},
   "source": [
    "# Get MetaData to Pandas DF"
   ]
  },
  {
   "cell_type": "code",
   "execution_count": 12,
   "metadata": {},
   "outputs": [],
   "source": [
    "cols = ['SOP Instance UID', 'Modality', 'Patient ID', 'Study Instance UID', 'Series Instance UID',\n",
    "        'Study ID', 'Image Position (Patient)', 'Image Orientation (Patient)','Samples per Pixel',\n",
    "        'Photometric Interpretation', 'Rows', 'Columns', 'Pixel Spacing', 'Bits Allocated', \n",
    "        'Bits Stored','High Bit', 'Pixel Representation', 'Window Center', 'Window Width',\n",
    "        'Rescale Intercept','Rescale Slope']\n",
    "\n",
    "train_meta_df = pd.DataFrame(train_metadata)\n",
    "train_meta_df.columns = cols"
   ]
  },
  {
   "cell_type": "markdown",
   "metadata": {},
   "source": [
    "# Explode Image position"
   ]
  },
  {
   "cell_type": "code",
   "execution_count": 13,
   "metadata": {},
   "outputs": [],
   "source": [
    "def extractPosition(positionList):\n",
    "    if type(positionList) == str:\n",
    "        return literal_eval(positionList)\n",
    "    else:\n",
    "        return positionList\n",
    "\n",
    "train_meta_df['Image Position (Patient)'] = train_meta_df['Image Position (Patient)'].apply(extractPosition) \n",
    "train_meta_df[['Image Position x','Image Position y', 'Image Position z']] = pd.DataFrame(\n",
    "    train_meta_df['Image Position (Patient)'].values.tolist(), index= train_meta_df.index)"
   ]
  },
  {
   "cell_type": "markdown",
   "metadata": {},
   "source": [
    "# Drop columns with only 1 value"
   ]
  },
  {
   "cell_type": "code",
   "execution_count": 14,
   "metadata": {},
   "outputs": [],
   "source": [
    "DROP_COLUMNS = ['Modality', 'Photometric Interpretation', 'Study ID', 'Samples per Pixel', 'Bits Allocated',\n",
    "               'Rescale Slope', 'Image Position (Patient)']\n",
    "train_meta_df = train_meta_df.drop(DROP_COLUMNS, axis= 1)"
   ]
  },
  {
   "cell_type": "markdown",
   "metadata": {},
   "source": [
    "# Save to CSV"
   ]
  },
  {
   "cell_type": "code",
   "execution_count": 15,
   "metadata": {},
   "outputs": [],
   "source": [
    "train_meta_df.to_csv(DATA_DIR + '/stage_2_train_metadata.csv', index=False)"
   ]
  }
 ],
 "metadata": {
  "kernelspec": {
   "display_name": "Python 3",
   "language": "python",
   "name": "python3"
  },
  "language_info": {
   "codemirror_mode": {
    "name": "ipython",
    "version": 3
   },
   "file_extension": ".py",
   "mimetype": "text/x-python",
   "name": "python",
   "nbconvert_exporter": "python",
   "pygments_lexer": "ipython3",
   "version": "3.6.8"
  }
 },
 "nbformat": 4,
 "nbformat_minor": 2
}
