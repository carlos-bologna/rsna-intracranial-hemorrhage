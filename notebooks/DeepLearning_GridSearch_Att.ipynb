{
 "cells": [
  {
   "cell_type": "markdown",
   "metadata": {},
   "source": [
    "# Packages"
   ]
  },
  {
   "cell_type": "code",
   "execution_count": 1,
   "metadata": {},
   "outputs": [],
   "source": [
    "# Importando bibliotecas\n",
    "import pydicom\n",
    "import pandas as pd\n",
    "import numpy as np\n",
    "import torch.nn as nn\n",
    "import torch.nn.functional as F\n",
    "import os\n",
    "import glob\n",
    "import time\n",
    "import torch\n",
    "import matplotlib.pyplot as plt\n",
    "#import glob\n",
    "import torchvision.transforms.functional as TF\n",
    "from torchvision.models import densenet121, vgg16, resnet50, inception_v3, resnet18\n",
    "\n",
    "from efficientnet_pytorch import EfficientNet\n",
    "import copy\n",
    "from torch.utils.data import Dataset, DataLoader\n",
    "from torchvision import transforms, utils, datasets\n",
    "from skimage import io, transform\n",
    "from PIL import Image\n",
    "from sklearn.model_selection import train_test_split\n",
    "from sklearn.utils import class_weight\n",
    "from torch.autograd import Variable\n",
    "from torch.optim.lr_scheduler import ReduceLROnPlateau\n",
    "from tensorboardX import SummaryWriter\n",
    "\n",
    "from common.myfunctions import plot_confusion_matrix\n",
    "from common.customloss import QuadraticKappa, WeightedMultiLabelLogLoss\n",
    "from common.blocks import ConvBlock, LinearAttentionBlock, ProjectorBlock\n",
    "from common.nets import ResNet50Attention\n",
    "from common.densenet import densenet121att\n",
    "\n",
    "%matplotlib inline"
   ]
  },
  {
   "cell_type": "markdown",
   "metadata": {},
   "source": [
    "# Parameters"
   ]
  },
  {
   "cell_type": "code",
   "execution_count": 2,
   "metadata": {},
   "outputs": [],
   "source": [
    "BASE_DIR = '/srv/app/data'\n",
    "\n",
    "DATA_DIR = BASE_DIR + '/data'\n",
    "\n",
    "MODEL_DIR = BASE_DIR + '/models'\n",
    "\n",
    "TRAIN_DIR = DATA_DIR + '/numpy_array/stage_1_train_images_299'\n",
    "TEST_DIR = DATA_DIR + '/numpy_array/stage_1_train_images_299' #Same path because we split train in train and test.\n",
    "\n",
    "TRAIN_LABELS = DATA_DIR + '/stage_1_train_pivoted.csv'\n",
    "TEST_LABELS = DATA_DIR + ''\n",
    "\n",
    "BATCH_SIZE = 1\n",
    "\n",
    "NUM_EPOCH = 30\n",
    "\n",
    "TEST_SPLIT = 0.3\n",
    "\n",
    "SEED = 42\n",
    "\n",
    "NUM_CLASSES = 6\n",
    "\n",
    "LABEL_COLUMN = ['any', 'epidural', 'intraparenchymal', 'intraventricular', 'subarachnoid', 'subdural']\n",
    "\n",
    "INPUT_SIZE = 299\n",
    "\n",
    "IMAGE_FORMAT = 'npy'\n",
    "\n",
    "MODELS = ['FineTuningResNet50Attention']\n",
    "\n",
    "OPTIMIZERS = ['DefaultAdam']\n",
    "\n",
    "LOSSES = ['WeightedMultiLabelLogLoss']\n",
    "\n",
    "#DATASETS = ['WLWW_4040_50100_6040']\n",
    "\n",
    "SAMPLE_FRAC = 0.01 #Fraction of dataset to use. Set to 1.0 to use the entire dataset.\n",
    "\n",
    "CUDA_DEVICES = [2,3]\n",
    "\n",
    "BLACK_LIST_ID = ['ID_6431af929', 'ID_8da38f2e4', 'ID_0e21abf7a', 'ID_470e639ae', 'ID_d91d52bdc']"
   ]
  },
  {
   "cell_type": "code",
   "execution_count": 3,
   "metadata": {},
   "outputs": [],
   "source": [
    "MODEL_LIST = {\n",
    "    'PreDensenet121': {\n",
    "        'base_model': 'densenet121',\n",
    "        'is_inception': False,\n",
    "        'pretrained': True,\n",
    "        'load_checkpoint': False,\n",
    "        'checkpoint_from': '',\n",
    "        'layers_to_frozen': ['conv0', 'norm0', 'denseblock1', 'transition1', \n",
    "                             'denseblock2', 'transition2', 'denseblock3', 'transition3', \n",
    "                             'denseblock4', 'norm5']\n",
    "    },\n",
    "    'FineTuningDensenet121': {\n",
    "        'base_model': 'densenet121',\n",
    "        'is_inception': False,\n",
    "        'pretrained': True,\n",
    "        'load_checkpoint': False,\n",
    "        'checkpoint_from': '',\n",
    "        'layers_to_frozen': []\n",
    "    },\n",
    "    'FineTuningDensenet121v1': {\n",
    "        'base_model': 'densenet121',\n",
    "        'is_inception': False,\n",
    "        'pretrained': True,\n",
    "        'load_checkpoint': False,\n",
    "        'checkpoint_from': '',\n",
    "        'layers_to_frozen': ['conv0', 'norm0', 'denseblock1', 'transition1', \n",
    "                             'denseblock2', 'transition2', 'denseblock3', 'transition3']\n",
    "    },\n",
    "    'FineTuningDensenet121v2': {\n",
    "        'base_model': 'densenet121',\n",
    "        'is_inception': False,\n",
    "        'pretrained': True,\n",
    "        'load_checkpoint': True,\n",
    "        'checkpoint_from': 'FineTuningDensenet121v1',\n",
    "        'layers_to_frozen': ['conv0', 'norm0', 'denseblock1', 'transition1', \n",
    "                             'denseblock2', 'transition2']\n",
    "    },\n",
    "    'PreVGG16': {\n",
    "        'base_model': 'vgg16',\n",
    "        'is_inception': False,\n",
    "        'pretrained': True,\n",
    "        'load_checkpoint': False,\n",
    "        'checkpoint_from': '',\n",
    "        'layers_to_frozen': ['features.0', 'features.2', 'features.5', 'features.7', \n",
    "                             'features.10', 'features.12', 'features.14', 'features.17', \n",
    "                             'features.19', 'features.21', 'features.24', 'features.26', \n",
    "                             'features.28', 'classifier.0', 'classifier.3']\n",
    "    },\n",
    "    'PreResNet50': {\n",
    "        'base_model': 'resnet50',\n",
    "        'is_inception': False,\n",
    "        'pretrained': True,\n",
    "        'load_checkpoint': False,\n",
    "        'checkpoint_from': '',\n",
    "        'layers_to_frozen': ['conv1', 'bn1', 'layer1', 'layer2', 'layer3', 'layer4']\n",
    "    },\n",
    "    'FineTuningResNet50Attention': {\n",
    "        'base_model': 'ResNet50Attention',\n",
    "        'is_inception': False,\n",
    "        'pretrained': True,\n",
    "        'load_checkpoint': False,\n",
    "        'checkpoint_from': '',\n",
    "        'layers_to_frozen': []\n",
    "    },\n",
    "    'FineTuningResNet50': {\n",
    "        'base_model': 'resnet50',\n",
    "        'is_inception': False,\n",
    "        'pretrained': True,\n",
    "        'load_checkpoint': False,\n",
    "        'checkpoint_from': '',\n",
    "        'layers_to_frozen': []\n",
    "    },\n",
    "    'FineTuningResNet50v1': {\n",
    "        'base_model': 'resnet50',\n",
    "        'is_inception': False,\n",
    "        'pretrained': True,\n",
    "        'load_checkpoint': False,\n",
    "        'checkpoint_from': '',\n",
    "        'layers_to_frozen': ['conv1', 'bn1', 'layer1', 'layer2', 'layer3']\n",
    "    },\n",
    "    'FineTuningResNet50v2': {\n",
    "        'base_model': 'resnet50',\n",
    "        'is_inception': False,\n",
    "        'pretrained': True,\n",
    "        'load_checkpoint': True,\n",
    "        'checkpoint_from': 'FineTuningResNet50v1',\n",
    "        'layers_to_frozen': ['conv1', 'bn1', 'layer1', 'layer2']\n",
    "    },\n",
    "    'PreInceptionV3': {\n",
    "        'base_model': 'inception_v3',\n",
    "        'is_inception': True,\n",
    "        'pretrained': True,\n",
    "        'load_checkpoint': False,\n",
    "        'checkpoint_from': '',\n",
    "        'layers_to_frozen': ['AuxLogits.conv0', 'AuxLogits.conv1', 'Conv2d_1a_3x3', 'Conv2d_2a_3x3', \n",
    "                             'Conv2d_2b_3x3', 'Conv2d_3b_1x1', 'Conv2d_4a_3x3', \n",
    "                             'Mixed_5b.branch1x1', 'Mixed_5b.branch3x3dbl_1', \n",
    "                             'Mixed_5b.branch3x3dbl_2', 'Mixed_5b.branch3x3dbl_3', 'Mixed_5b.branch5x5_1', \n",
    "                             'Mixed_5b.branch5x5_2', 'Mixed_5b.branch_pool', 'Mixed_5c.branch1x1', \n",
    "                             'Mixed_5c.branch3x3dbl_1', 'Mixed_5c.branch3x3dbl_2', 'Mixed_5c.branch3x3dbl_3', \n",
    "                             'Mixed_5c.branch5x5_1', 'Mixed_5c.branch5x5_2', 'Mixed_5c.branch_pool', \n",
    "                             'Mixed_5d.branch1x1', 'Mixed_5d.branch3x3dbl_1', 'Mixed_5d.branch3x3dbl_2', \n",
    "                             'Mixed_5d.branch3x3dbl_3', 'Mixed_5d.branch5x5_1', 'Mixed_5d.branch5x5_2', \n",
    "                             'Mixed_5d.branch_pool', 'Mixed_6a.branch3x3', 'Mixed_6a.branch3x3dbl_1', \n",
    "                             'Mixed_6a.branch3x3dbl_2', 'Mixed_6a.branch3x3dbl_3', 'Mixed_6b.branch1x1', \n",
    "                             'Mixed_6b.branch7x7_1', 'Mixed_6b.branch7x7_2', 'Mixed_6b.branch7x7_3', \n",
    "                             'Mixed_6b.branch7x7dbl_1', 'Mixed_6b.branch7x7dbl_2', 'Mixed_6b.branch7x7dbl_3', \n",
    "                             'Mixed_6b.branch7x7dbl_4', 'Mixed_6b.branch7x7dbl_5', 'Mixed_6b.branch_pool', \n",
    "                             'Mixed_6c.branch1x1', 'Mixed_6c.branch7x7_1', 'Mixed_6c.branch7x7_2', \n",
    "                             'Mixed_6c.branch7x7_3', 'Mixed_6c.branch7x7dbl_1', 'Mixed_6c.branch7x7dbl_2', \n",
    "                             'Mixed_6c.branch7x7dbl_3', 'Mixed_6c.branch7x7dbl_4', 'Mixed_6c.branch7x7dbl_5', \n",
    "                             'Mixed_6c.branch_pool', 'Mixed_6d.branch1x1', 'Mixed_6d.branch7x7_1', \n",
    "                             'Mixed_6d.branch7x7_2', 'Mixed_6d.branch7x7_3', 'Mixed_6d.branch7x7dbl_1', \n",
    "                             'Mixed_6d.branch7x7dbl_2', 'Mixed_6d.branch7x7dbl_3', 'Mixed_6d.branch7x7dbl_4', \n",
    "                             'Mixed_6d.branch7x7dbl_5', 'Mixed_6d.branch_pool', 'Mixed_6e.branch1x1', \n",
    "                             'Mixed_6e.branch7x7_1', 'Mixed_6e.branch7x7_2', 'Mixed_6e.branch7x7_3', \n",
    "                             'Mixed_6e.branch7x7dbl_1', 'Mixed_6e.branch7x7dbl_2', 'Mixed_6e.branch7x7dbl_3', \n",
    "                             'Mixed_6e.branch7x7dbl_4', 'Mixed_6e.branch7x7dbl_5', 'Mixed_6e.branch_pool', \n",
    "                             'Mixed_7a.branch3x3_1', 'Mixed_7a.branch3x3_2', 'Mixed_7a.branch7x7x3_1', \n",
    "                             'Mixed_7a.branch7x7x3_2', 'Mixed_7a.branch7x7x3_3', 'Mixed_7a.branch7x7x3_4', \n",
    "                             'Mixed_7b.branch1x1', 'Mixed_7b.branch3x3_1', 'Mixed_7b.branch3x3_2a', \n",
    "                             'Mixed_7b.branch3x3_2b', 'Mixed_7b.branch3x3dbl_1', 'Mixed_7b.branch3x3dbl_2', \n",
    "                             'Mixed_7b.branch3x3dbl_3a', 'Mixed_7b.branch3x3dbl_3b', 'Mixed_7b.branch_pool', \n",
    "                             'Mixed_7c.branch1x1', 'Mixed_7c.branch3x3_1', 'Mixed_7c.branch3x3_2a', \n",
    "                             'Mixed_7c.branch3x3_2b', 'Mixed_7c.branch3x3dbl_1', 'Mixed_7c.branch3x3dbl_2', \n",
    "                             'Mixed_7c.branch3x3dbl_3a', 'Mixed_7c.branch3x3dbl_3b', 'Mixed_7c.branch_pool']\n",
    "    },\n",
    "    'PreEfficientNetB7': {\n",
    "        'base_model': 'efficientnetb7',\n",
    "        'is_inception': False,\n",
    "        'pretrained': True,\n",
    "        'load_checkpoint': False,\n",
    "        'checkpoint_from': '',\n",
    "        'layers_to_frozen': ['_conv_stem', '_bn0', '_blocks', '_conv_head', '_bn1']\n",
    "    }\n",
    "}"
   ]
  },
  {
   "cell_type": "code",
   "execution_count": 4,
   "metadata": {},
   "outputs": [],
   "source": [
    "OPTIMIZER_LIST = {\n",
    "    'DefaultAdam': {\n",
    "        'function': 'Adam',\n",
    "        'lr': 0.001,\n",
    "        'betas': (0.9, 0.999),\n",
    "        'eps': 1e-08,\n",
    "        'weight_decay': 0,\n",
    "        'amsgrad': False\n",
    "    }\n",
    "}\n",
    "\n",
    "LOSS_LIST = {\n",
    "    'DefaultNLLLoss': {\n",
    "        'function': 'NLLLoss',\n",
    "        'weight': None,\n",
    "        'size_average': None,\n",
    "        'ignore_index': -100,\n",
    "        'reduce': None,\n",
    "        'reduction': 'mean'\n",
    "    },\n",
    "    'DefaultSmoothL1Loss': {\n",
    "        'function': 'SmoothL1Loss',\n",
    "        'size_average': None,\n",
    "        'reduce': None,\n",
    "        'reduction': 'mean'\n",
    "    },\n",
    "    'DefaultCrossEntropyLoss': {\n",
    "        'function': 'CrossEntropyLoss',\n",
    "        'weight': None,\n",
    "        'size_average': None,\n",
    "        'ignore_index': -100,\n",
    "        'reduce': None,\n",
    "        'reduction': 'mean'\n",
    "    },\n",
    "    'QuadraticKappa': {\n",
    "        'function': 'QuadraticKappa',\n",
    "        'n_classes': NUM_CLASSES\n",
    "    },\n",
    "    'WeightedMultiLabelLogLoss': {\n",
    "        'function': 'WeightedMultiLabelLogLoss',\n",
    "        'n_classes': NUM_CLASSES,\n",
    "        'weight': None\n",
    "    }\n",
    "}\n",
    "\n",
    "#DATASET_LIST = {\n",
    "#    'WLWW_4040_50100_6040': {\n",
    "#        'convert_BGR2RGB': False,\n",
    "#        'normalize_255': False,\n",
    "#        'channels': 3,\n",
    "#        'channels_first': True,\n",
    "#        'custom_function': None\n",
    "#    },\n",
    "#    'WLWW_4040': {\n",
    "#        'train_dir': DATA_DIR + '/numpy_array/stage_1_train_images_299',\n",
    "#        'val_dir': None,\n",
    "#        'test_dir': DATA_DIR + '/numpy_array/stage_1_train_images_299'\n",
    "#        'convert_BGR2RGB': False,\n",
    "#        'normalize_255': False,\n",
    "#        'channels': 3,\n",
    "#        'channels_first': True,\n",
    "#        'custom_function': None\n",
    "#    }\n",
    "#}"
   ]
  },
  {
   "cell_type": "code",
   "execution_count": 5,
   "metadata": {},
   "outputs": [
    {
     "name": "stdout",
     "output_type": "stream",
     "text": [
      "True\n"
     ]
    }
   ],
   "source": [
    "is_cuda=False\n",
    "if torch.cuda.is_available():\n",
    "    is_cuda = True\n",
    "print(is_cuda)    \n",
    "\n",
    "# Detect if we have a GPU available\n",
    "cuda_list = ','.join(str(c) for c in CUDA_DEVICES)\n",
    "device = torch.device(\"cuda:{}\".format(cuda_list) if torch.cuda.is_available() else \"cpu\")"
   ]
  },
  {
   "cell_type": "code",
   "execution_count": 6,
   "metadata": {},
   "outputs": [],
   "source": [
    "class CustomDataset(Dataset):\n",
    "\n",
    "    def __init__(self, X, y, img_folder, img_ext='png', transform=None):\n",
    "        \"\"\"\n",
    "        Args:\n",
    "            X (dataframe): Dataframe with images ID.\n",
    "            y (dataframe): Dataframe with labels annotations.\n",
    "            img_folder (string): Directory with all the images.\n",
    "            transform (callable, optional): Optional transform to be applied\n",
    "                on a sample.\n",
    "        \"\"\"\n",
    "        self.X = X\n",
    "        self.y = y\n",
    "        self.img_folder = img_folder\n",
    "        self.img_ext = img_ext\n",
    "        self.transform = transform\n",
    "\n",
    "    def __len__(self):\n",
    "        return len(self.y)\n",
    "\n",
    "    def __getitem__(self, idx):\n",
    "        img_name = os.path.join(self.img_folder, self.X.iloc[idx, 0] + '.' + self.img_ext)\n",
    "        \n",
    "       #image = np.load(img_name).astype('uint8')\n",
    "        image = np.load(img_name)\n",
    "        \n",
    "        label = self.y.iloc[idx].to_numpy()\n",
    "        \n",
    "        if self.transform:\n",
    "       \n",
    "           image = self.transform(TF.to_pil_image(image))\n",
    "\n",
    "        return (image,label)\n",
    "    \n",
    "# class CustomDataset_v2(Dataset):\n",
    "\n",
    "#     def __init__(self, X, y, img_folder, img_ext='png', transform=None):\n",
    "#         \"\"\"\n",
    "#         Args:\n",
    "#             X (dataframe): Dataframe with images ID.\n",
    "#             y (dataframe): Dataframe with labels annotations.\n",
    "#             img_folder (string): Directory with all the images.\n",
    "#             transform (callable, optional): Optional transform to be applied\n",
    "#                 on a sample.\n",
    "#         \"\"\"\n",
    "#         self.X = X\n",
    "#         self.y = y\n",
    "#         self.img_folder = img_folder\n",
    "#         self.img_ext = img_ext\n",
    "#         self.transform = transform\n",
    "#         self.hu_min = -1024 # Min value of Hounsfield scale\n",
    "#         self.hu_max = 3071 # Max value of Hounsfield scale\n",
    "#         self.hu_delta = self.hu_max - self.hu_min # Just to save calculation\n",
    "\n",
    "#     def __len__(self):\n",
    "#         return len(self.y)\n",
    "\n",
    "#     def __getitem__(self, idx):\n",
    "#         img_name = os.path.join(self.img_folder, self.X.iloc[idx, 0] + '.' + self.img_ext)\n",
    "#         #image = np.load(img_name).astype('uint8')\n",
    "#         image = np.load(img_name)\n",
    "        \n",
    "#         image = image[:,:,[2]]\n",
    "#         image = np.repeat(image, 3, axis=2)\n",
    "        \n",
    "#         label = self.y.iloc[idx].to_numpy()\n",
    "        \n",
    "#         if self.transform:\n",
    "        \n",
    "#             image = self.transform(TF.to_pil_image(image))\n",
    "\n",
    "#         return (image,label)    "
   ]
  },
  {
   "cell_type": "markdown",
   "metadata": {},
   "source": [
    "# Load and Calc Classes Weight"
   ]
  },
  {
   "cell_type": "code",
   "execution_count": 7,
   "metadata": {},
   "outputs": [],
   "source": [
    "data = pd.read_csv(TRAIN_LABELS)\n",
    "data = data.loc[~data.id.isin(BLACK_LIST_ID)]"
   ]
  },
  {
   "cell_type": "code",
   "execution_count": 8,
   "metadata": {},
   "outputs": [
    {
     "data": {
      "text/plain": [
       "<matplotlib.axes._subplots.AxesSubplot at 0x7f74052d2358>"
      ]
     },
     "execution_count": 8,
     "metadata": {},
     "output_type": "execute_result"
    },
    {
     "data": {
      "image/png": "[encoded data removed]",
      "text/plain": [
       "<Figure size 432x288 with 1 Axes>"
      ]
     },
     "metadata": {
      "needs_background": "light"
     },
     "output_type": "display_data"
    }
   ],
   "source": [
    "data[LABEL_COLUMN].sum().plot.bar()"
   ]
  },
  {
   "cell_type": "code",
   "execution_count": 9,
   "metadata": {},
   "outputs": [],
   "source": [
    "if SAMPLE_FRAC < 1.0:\n",
    "    data = data.sample(frac = SAMPLE_FRAC)"
   ]
  },
  {
   "cell_type": "code",
   "execution_count": 10,
   "metadata": {},
   "outputs": [
    {
     "data": {
      "text/plain": [
       "<matplotlib.axes._subplots.AxesSubplot at 0x7f73f971ec18>"
      ]
     },
     "execution_count": 10,
     "metadata": {},
     "output_type": "execute_result"
    },
    {
     "data": {
      "image/png": "[encoded data removed]",
      "text/plain": [
       "<Figure size 432x288 with 1 Axes>"
      ]
     },
     "metadata": {
      "needs_background": "light"
     },
     "output_type": "display_data"
    }
   ],
   "source": [
    "data[LABEL_COLUMN].sum().plot.bar()"
   ]
  },
  {
   "cell_type": "markdown",
   "metadata": {},
   "source": [
    "### Calc Classes Weight"
   ]
  },
  {
   "cell_type": "code",
   "execution_count": 11,
   "metadata": {},
   "outputs": [
    {
     "data": {
      "text/plain": [
       "array([ 0.39719454, 11.20833333,  1.13144059,  1.7495935 ,  1.1350211 ,\n",
       "        0.94635004])"
      ]
     },
     "execution_count": 11,
     "metadata": {},
     "output_type": "execute_result"
    }
   ],
   "source": [
    "distrib_freq = data[LABEL_COLUMN].sum().to_numpy()\n",
    "w_classes = distrib_freq.sum() / (NUM_CLASSES * distrib_freq)\n",
    "w_classes"
   ]
  },
  {
   "cell_type": "markdown",
   "metadata": {},
   "source": [
    "### Check for Wrong Loss Function Choice"
   ]
  },
  {
   "cell_type": "code",
   "execution_count": 12,
   "metadata": {},
   "outputs": [],
   "source": [
    "for l in LOSSES:\n",
    "    if 'weight' in LOSS_LIST[l]:\n",
    "        LOSS_LIST[l]['weight'] = torch.from_numpy(w_classes).to(device)\n",
    "    else:\n",
    "        raise Exception('You are trying to set weight in a loss function without weight parameter')"
   ]
  },
  {
   "cell_type": "markdown",
   "metadata": {},
   "source": [
    "# Train Test Split"
   ]
  },
  {
   "cell_type": "code",
   "execution_count": 13,
   "metadata": {},
   "outputs": [],
   "source": [
    "x = data.drop(LABEL_COLUMN, axis=1)\n",
    "y = data[LABEL_COLUMN]\n",
    "\n",
    "# Criando o dataframe de treine e teste com base no dataframe anteriormente criado\n",
    "X_train, X_test, y_train, y_test = train_test_split(x, y, test_size = TEST_SPLIT, random_state = SEED)"
   ]
  },
  {
   "cell_type": "markdown",
   "metadata": {},
   "source": [
    "# Data augmentation"
   ]
  },
  {
   "cell_type": "code",
   "execution_count": 14,
   "metadata": {},
   "outputs": [],
   "source": [
    "train_transf = transforms.Compose([\n",
    "    transforms.RandomRotation((0,360)),\n",
    "    transforms.RandomHorizontalFlip(p=0.5),\n",
    "    transforms.RandomVerticalFlip(p=0.5),\n",
    "    transforms.ToTensor()\n",
    "])\n",
    "\n",
    "test_transf = transforms.Compose([\n",
    "    transforms.ToTensor()\n",
    "])"
   ]
  },
  {
   "cell_type": "code",
   "execution_count": 15,
   "metadata": {},
   "outputs": [],
   "source": [
    "train_dataset = CustomDataset(X=X_train, \n",
    "                              y=y_train, \n",
    "                              img_folder=TRAIN_DIR,\n",
    "                              img_ext=IMAGE_FORMAT, \n",
    "                              transform=train_transf)\n",
    "\n",
    "test_dataset = CustomDataset(X=X_test, \n",
    "                             y=y_test, \n",
    "                             img_folder=TEST_DIR, \n",
    "                             img_ext=IMAGE_FORMAT,\n",
    "                             transform=test_transf)"
   ]
  },
  {
   "cell_type": "code",
   "execution_count": 16,
   "metadata": {},
   "outputs": [],
   "source": [
    "# Garregando os dados\n",
    "train_loader = DataLoader(train_dataset, batch_size=BATCH_SIZE, shuffle=True, num_workers=0)\n",
    "test_loader = DataLoader(test_dataset, batch_size=BATCH_SIZE, shuffle=True, num_workers=0)"
   ]
  },
  {
   "cell_type": "code",
   "execution_count": 17,
   "metadata": {},
   "outputs": [],
   "source": [
    "dataloaders_dict = {'train': train_loader, 'val': test_loader}"
   ]
  },
  {
   "cell_type": "markdown",
   "metadata": {},
   "source": [
    "# Custom Net"
   ]
  },
  {
   "cell_type": "markdown",
   "metadata": {},
   "source": [
    "class ResNet50Attention(nn.Module):\n",
    "    \n",
    "    def __init__(self, num_classes, attention=True, normalize_attn=True):\n",
    "        super(ResNet50Attention, self).__init__()\n",
    "        self.attention = attention\n",
    "        self.num_classes = num_classes\n",
    "        \n",
    "        resnet50_model = resnet50(pretrained=True)\n",
    "        \n",
    "        self.layers = [l for l in resnet50_model.children()]\n",
    "        \n",
    "        self.conv1 = layers[0]\n",
    "        self.bn1 = layers[1]\n",
    "        self.relu = layers[2]\n",
    "        self.maxpool = layers[3]\n",
    "\n",
    "        self.layer1 = layers[4]\n",
    "        self.layer2 = layers[5]\n",
    "        self.layer3 = layers[6]\n",
    "        self.layer4 = layers[7]\n",
    "\n",
    "        self.avgpool = layers[8]\n",
    "\n",
    "        if self.attention:\n",
    "            self.fc = nn.Linear(in_features=1792, out_features=self.num_classes, bias=True)\n",
    "        else:\n",
    "            self.fc = nn.Linear(in_features=2048, out_features=self.num_classes, bias=True)\n",
    "        \n",
    "        if self.attention:\n",
    "            self.projector1 = ProjectorBlock(2048, 256)\n",
    "            self.projector2 = ProjectorBlock(2048, 512)\n",
    "            self.projector3 = ProjectorBlock(2048, 1024)\n",
    "            self.attn1 = LinearAttentionBlock(in_features=256, normalize_attn=normalize_attn)\n",
    "            self.attn2 = LinearAttentionBlock(in_features=512, normalize_attn=normalize_attn)\n",
    "            self.attn3 = LinearAttentionBlock(in_features=1024, normalize_attn=normalize_attn)\n",
    "\n",
    "    def forward(self, x):\n",
    "        \n",
    "        x = self.conv1(x)\n",
    "        x = self.bn1(x)\n",
    "        x = self.relu(x)\n",
    "        x = self.maxpool(x)\n",
    "        l1 = self.layer1(x)\n",
    "        l2 = self.layer2(l1)\n",
    "        l3 = self.layer3(l2)\n",
    "        x = self.layer4(l3)\n",
    "        g = self.avgpool(x)\n",
    "        #x = torch.flatten(g, 1)\n",
    "        \n",
    "        # pay attention\n",
    "        if self.attention:\n",
    "            p1 = self.projector1(g)\n",
    "            c1, g1 = self.attn1(l1, p1)\n",
    "            \n",
    "            p2 = self.projector2(g)\n",
    "            c2, g2 = self.attn2(l2, p2)\n",
    "            \n",
    "            p3 = self.projector3(g)\n",
    "            c3, g3 = self.attn3(l3, p3)\n",
    "            \n",
    "            g = torch.cat((g1,g2,g3), dim=1) # batch_sizexC\n",
    "            # classification layer\n",
    "            x = self.fc(g) # batch_sizexnum_classes\n",
    "            \n",
    "        else:\n",
    "        \n",
    "            x = self.fc(g)\n",
    "\n",
    "        return x"
   ]
  },
  {
   "cell_type": "code",
   "execution_count": 18,
   "metadata": {},
   "outputs": [],
   "source": [
    "inputs, labels = next(iter(train_loader))"
   ]
  },
  {
   "cell_type": "code",
   "execution_count": 19,
   "metadata": {},
   "outputs": [
    {
     "data": {
      "text/plain": [
       "tensor([[-0.2372,  0.0490, -0.3935, -0.0903,  0.0495, -0.3144]],\n",
       "       grad_fn=<AddmmBackward>)"
      ]
     },
     "execution_count": 19,
     "metadata": {},
     "output_type": "execute_result"
    }
   ],
   "source": [
    "model = densenet121att(pretrained=True)\n",
    "model.classifier = nn.Linear(1024, NUM_CLASSES)\n",
    "outputs = model(inputs)\n",
    "outputs"
   ]
  },
  {
   "cell_type": "code",
   "execution_count": null,
   "metadata": {},
   "outputs": [],
   "source": []
  },
  {
   "cell_type": "code",
   "execution_count": null,
   "metadata": {},
   "outputs": [],
   "source": []
  },
  {
   "cell_type": "code",
   "execution_count": null,
   "metadata": {},
   "outputs": [],
   "source": []
  },
  {
   "cell_type": "markdown",
   "metadata": {},
   "source": [
    "# Model"
   ]
  },
  {
   "cell_type": "code",
   "execution_count": null,
   "metadata": {},
   "outputs": [],
   "source": [
    "def loadBestModel(model_name):\n",
    "    device = torch.device(\"cuda:{}\".format(cuda_list) if torch.cuda.is_available() else \"cpu\")\n",
    "    # Get lastest model file\n",
    "    list_of_files = glob.glob(MODEL_DIR + f'/*{model_name}*.pt') # * means all if need specific format then *.csv\n",
    "    latest_file = max(list_of_files, key=os.path.getctime)\n",
    "    print(f'Loading model {latest_file}')\n",
    "    model = torch.load(latest_file, map_location=device)\n",
    "    return model"
   ]
  },
  {
   "cell_type": "code",
   "execution_count": null,
   "metadata": {},
   "outputs": [],
   "source": [
    "def getModel(model_name, num_classes):\n",
    "    \n",
    "    model_parameters = MODEL_LIST[model_name]\n",
    "    \n",
    "    if model_parameters['load_checkpoint']:\n",
    "        \n",
    "        model = loadBestModel(model_parameters['checkpoint_from'])\n",
    "        \n",
    "        for param in model.parameters():\n",
    "            param.requires_grad = True\n",
    "                    \n",
    "    else:\n",
    "        \n",
    "        if model_parameters['base_model']=='densenet121':\n",
    "            \n",
    "            model = densenet121(pretrained=model_parameters['pretrained'])\n",
    "            model.classifier = nn.Linear(1024, num_classes)   \n",
    "            \n",
    "        if model_parameters['base_model']=='vgg16':\n",
    "            \n",
    "            model = vgg16(pretrained=model_parameters['pretrained'])\n",
    "            model.classifier[6] = nn.Linear(4096, num_classes) \n",
    "        \n",
    "        if model_parameters['base_model']=='resnet50':\n",
    "            \n",
    "            model = resnet50(pretrained=model_parameters['pretrained'])\n",
    "            model.fc = nn.Linear(2048, num_classes) \n",
    "        \n",
    "        if model_parameters['base_model']=='ResNet50Attention':\n",
    "            model = ResNet50Attention(num_classes, attention=True, pretrained=model_parameters['pretrained'])\n",
    "         \n",
    "        if model_parameters['base_model']=='inception_v3':\n",
    "            \n",
    "            model = inception_v3(pretrained=model_parameters['pretrained'])\n",
    "            model.fc = nn.Linear(2048, num_classes) \n",
    "            model.AuxLogits.fc = nn.Linear(768, num_classes)\n",
    "            \n",
    "        elif model_parameters['base_model']=='efficientnetb7':\n",
    "            \n",
    "            model = EfficientNet.from_pretrained('efficientnet-b7')\n",
    "            model._fc = nn.Linear(2560, NUM_CLASSES) \n",
    "            \n",
    "        if (torch.cuda.device_count() > 1) & (not model_parameters['is_inception']):\n",
    "            if not CUDA_DEVICES:\n",
    "                print(\"Let's use\", torch.cuda.device_count(), \"GPUs!\")\n",
    "                model = nn.DataParallel(model) # When load checkpoint, the DataParallel is already in the model.\n",
    "            else:\n",
    "                print(\"Let's use\", CUDA_DEVICES, \"GPUs!\")\n",
    "                model = nn.DataParallel(model, device_ids = CUDA_DEVICES) # When load checkpoint, the DataParallel is already in the model.\n",
    "        \n",
    "    for name, param in model.named_parameters():\n",
    "        for l in model_parameters['layers_to_frozen']:\n",
    "            if l in name:\n",
    "                param.requires_grad = False\n",
    "\n",
    "    if is_cuda:\n",
    "        model = model.to(device)\n",
    "        \n",
    "    return model"
   ]
  },
  {
   "cell_type": "markdown",
   "metadata": {},
   "source": [
    "# Optimizer"
   ]
  },
  {
   "cell_type": "code",
   "execution_count": null,
   "metadata": {},
   "outputs": [],
   "source": [
    "def getOptimizer(optimizer_name, model):\n",
    "\n",
    "    params_to_update = []\n",
    "    \n",
    "    for name, param in model.named_parameters():\n",
    "    \n",
    "        if param.requires_grad == True:\n",
    "        \n",
    "            params_to_update.append(param)\n",
    "            \n",
    "            print(\"\\t\",name)\n",
    "\n",
    "    opt_parameters = OPTIMIZER_LIST[optimizer_name]\n",
    "\n",
    "    if opt_parameters['function'] == 'Adam':\n",
    "        \n",
    "        optimizer = torch.optim.Adam(params_to_update, \n",
    "                                     lr = opt_parameters['lr'],\n",
    "                                     betas = opt_parameters['betas'],\n",
    "                                     eps = opt_parameters['eps'],\n",
    "                                     weight_decay = opt_parameters['weight_decay'],\n",
    "                                     amsgrad = opt_parameters['amsgrad']\n",
    "                                    )\n",
    "\n",
    "    return optimizer"
   ]
  },
  {
   "cell_type": "markdown",
   "metadata": {},
   "source": [
    "# Loss Function"
   ]
  },
  {
   "cell_type": "code",
   "execution_count": null,
   "metadata": {},
   "outputs": [],
   "source": [
    "def getLossFunction(loss_nme):\n",
    "    \n",
    "    loss_parameters = LOSS_LIST[loss_nme]\n",
    "\n",
    "    if loss_parameters['function'] == 'SmoothL1Loss':\n",
    "        criterion = nn.SmoothL1Loss(\n",
    "            size_average = loss_parameters['size_average'],\n",
    "            reduce = loss_parameters['reduce'],\n",
    "            reduction = loss_parameters['reduction']\n",
    "        )\n",
    "\n",
    "    elif loss_parameters['function'] == 'CrossEntropyLoss':\n",
    "        criterion = nn.CrossEntropyLoss(\n",
    "            weight = loss_parameters['weight'],\n",
    "            size_average = loss_parameters['size_average'],\n",
    "            ignore_index = loss_parameters['ignore_index'],\n",
    "            reduce = loss_parameters['reduce'],\n",
    "            reduction = loss_parameters['reduction']\n",
    "        )\n",
    "\n",
    "    elif loss_parameters['function'] == 'NLLLoss':\n",
    "\n",
    "        criterion = nn.NLLLoss(\n",
    "            weight = loss_parameters['weight'],\n",
    "            size_average = loss_parameters['size_average'],\n",
    "            ignore_index = loss_parameters['ignore_index'],\n",
    "            reduce = loss_parameters['reduce'],\n",
    "            reduction = loss_parameters['reduction']\n",
    "        )\n",
    "\n",
    "    elif loss_parameters['function'] == 'QuadraticKappa':\n",
    "        criterion = QuadraticKappa(\n",
    "            n_classes = loss_parameters['n_classes']\n",
    "        )\n",
    "        \n",
    "    elif loss_parameters['function'] == 'WeightedMultiLabelLogLoss':\n",
    "\n",
    "        criterion = WeightedMultiLabelLogLoss(\n",
    "            n_classes = loss_parameters['n_classes'],\n",
    "            weight = loss_parameters['weight']\n",
    "        )\n",
    "        \n",
    "    return criterion"
   ]
  },
  {
   "cell_type": "markdown",
   "metadata": {},
   "source": [
    "# Train Function"
   ]
  },
  {
   "cell_type": "code",
   "execution_count": null,
   "metadata": {
    "scrolled": true
   },
   "outputs": [],
   "source": [
    "def onehot(labels, num_classes):\n",
    "    return torch.zeros(len(labels), num_classes).scatter_(1, labels.unsqueeze(1).cpu(), 1.).cuda()\n",
    "\n",
    "def train_model(model, model_name, dataloaders, criterion, optimizer, num_epochs=25, is_inception=False):\n",
    "\n",
    "    since = time.time()\n",
    "\n",
    "    best_loss = 999\n",
    "    \n",
    "    print(model_name)\n",
    "    print('-' * 100)\n",
    "\n",
    "    for epoch in range(num_epochs):\n",
    "        print('Epoch {}/{}'.format(epoch, num_epochs - 1))\n",
    "        print('-' * 10)\n",
    "        epoch_since = time.time()\n",
    "\n",
    "        # Each epoch has a training and validation phase\n",
    "        for phase in ['train', 'val']:\n",
    "            if phase == 'train':\n",
    "                model.train()  # Set model to training mode\n",
    "            else:\n",
    "                model.eval()   # Set model to evaluate mode\n",
    "\n",
    "            running_loss = 0.0\n",
    "            #running_corrects = 0\n",
    "\n",
    "            # Iterate over data.\n",
    "            for inputs, labels in dataloaders[phase]:\n",
    "                inputs = inputs.to(device)\n",
    "                labels = labels.to(device)\n",
    "\n",
    "                # zero the parameter gradients\n",
    "                optimizer.zero_grad()\n",
    "\n",
    "                # forward\n",
    "                # track history if only in train\n",
    "                with torch.set_grad_enabled(phase == 'train'):\n",
    "                    # Get model outputs and calculate loss\n",
    "                    # Special case for inception because in training it has an auxiliary output. In train\n",
    "                    #   mode we calculate the loss by summing the final output and the auxiliary output\n",
    "                    #   but in testing we only consider the final output.\n",
    "                    if is_inception and phase == 'train':\n",
    "                        # From https://discuss.pytorch.org/t/how-to-optimize-inception-model-with-auxiliary-classifiers/7958\n",
    "                        outputs, aux_outputs = model(inputs)\n",
    "                        \n",
    "                        outputs = torch.sigmoid(outputs)\n",
    "                        aux_outputs = torch.sigmoid(aux_outputs)\n",
    "                        \n",
    "                        loss1 = criterion(outputs, labels)\n",
    "                        loss2 = criterion(aux_outputs, labels)\n",
    "                        loss = loss1 + 0.4*loss2\n",
    "                        \n",
    "                    else:\n",
    "                        \n",
    "                        outputs = model(inputs)\n",
    "                        outputs = torch.sigmoid(outputs)\n",
    "                        \n",
    "                        loss = criterion(outputs, labels)\n",
    "                        \n",
    "                    #_, preds = torch.max(outputs, 1)\n",
    "                    \n",
    "                    # backward + optimize only if in training phase\n",
    "                    if phase == 'train':\n",
    "                        loss.backward()\n",
    "                        optimizer.step()\n",
    "                    \n",
    "                # statistics\n",
    "                running_loss += loss.item() * inputs.size(0)\n",
    "                #running_corrects += torch.sum(preds == labels.data)\n",
    "                \n",
    "            epoch_loss = running_loss / len(dataloaders[phase].dataset)\n",
    "            #epoch_acc = running_corrects.double() / len(dataloaders[phase].dataset)\n",
    "            #lr = optimizer.param_groups[0]['lr']\n",
    "\n",
    "            print('{} Loss: {:.4f}'.format(phase, epoch_loss))\n",
    "            \n",
    "            # Write loss into Tensorboard\n",
    "            tensorboard.add_scalar('Loss {}'.format(phase), epoch_loss, epoch)\n",
    "            #tensorboard.add_scalar('Acc {}'.format(phase), epoch_acc, epoch)\n",
    "\n",
    "            # deep copy the model\n",
    "            if phase == 'val' and epoch_loss < best_loss:\n",
    "                print('Saving the best model...')\n",
    "                best_loss = epoch_loss\n",
    "                torch.save(model, MODEL_DIR + '/' + model_name + '_imgsize' + str(INPUT_SIZE) + '_loss' + str(best_loss) + '.pt')\n",
    "            \n",
    "        epoch_time_elapsed = time.time() - epoch_since\n",
    "        print('Epoch time elapsed: {:.0f}m {:.0f}s'.format(epoch_time_elapsed // 60, epoch_time_elapsed % 60))\n",
    "            \n",
    "        print()\n",
    "\n",
    "    time_elapsed = time.time() - since\n",
    "    print('Training complete in {:.0f}m {:.0f}s'.format(time_elapsed // 60, time_elapsed % 60))\n",
    "    print('Best val Loss: {:4f}'.format(best_loss))\n",
    "    print('')\n",
    "\n",
    "    # load best model weights\n",
    "    model = loadBestModel(model_name)\n",
    "    return model, best_loss\n"
   ]
  },
  {
   "cell_type": "markdown",
   "metadata": {},
   "source": [
    "# Attention Test"
   ]
  },
  {
   "cell_type": "code",
   "execution_count": 61,
   "metadata": {},
   "outputs": [],
   "source": [
    "class SaveFeatures():\n",
    "    features=None\n",
    "    def __init__(self, m): self.hook = m.register_forward_hook(self.hook_fn)\n",
    "    def hook_fn(self, module, input, output): self.features = ((output.cpu()).data).numpy()\n",
    "    def remove(self): self.hook.remove()"
   ]
  },
  {
   "cell_type": "code",
   "execution_count": 62,
   "metadata": {},
   "outputs": [],
   "source": [
    "def getCAM(feature_conv, weight_fc, class_idx):\n",
    "    _, nc, h, w = feature_conv.shape\n",
    "    cam = weight_fc[class_idx].dot(feature_conv.reshape((nc, h*w)))\n",
    "    cam = cam.reshape(h, w)\n",
    "    cam = cam - np.min(cam)\n",
    "    cam_img = cam / np.max(cam)\n",
    "    return [cam_img]\n"
   ]
  },
  {
   "cell_type": "code",
   "execution_count": 63,
   "metadata": {},
   "outputs": [],
   "source": [
    "#model = getModel('PreVGG16', NUM_CLASSES)\n",
    "model = resnet50(pretrained=True)\n",
    "model.fc = nn.Linear(2048, NUM_CLASSES) \n",
    "\n",
    "model.eval()\n",
    "inputs, labels = next(iter(train_loader))"
   ]
  },
  {
   "cell_type": "code",
   "execution_count": 64,
   "metadata": {},
   "outputs": [],
   "source": [
    "final_layer = model._modules.get('layer4')\n",
    "activated_features = SaveFeatures(final_layer)\n",
    "prediction = model(inputs)"
   ]
  },
  {
   "cell_type": "code",
   "execution_count": null,
   "metadata": {},
   "outputs": [],
   "source": [
    "pred_probabilities = F.softmax(prediction, 1).data.squeeze()\n",
    "activated_features.remove()"
   ]
  },
  {
   "cell_type": "code",
   "execution_count": null,
   "metadata": {},
   "outputs": [],
   "source": [
    "weight_softmax_params = list(model._modules.get('fc').parameters())\n",
    "weight_softmax = np.squeeze(weight_softmax_params[0].cpu().data.numpy())"
   ]
  },
  {
   "cell_type": "code",
   "execution_count": null,
   "metadata": {},
   "outputs": [],
   "source": [
    "class_idx = topk(pred_probabilities,1)[1].int()"
   ]
  },
  {
   "cell_type": "code",
   "execution_count": null,
   "metadata": {},
   "outputs": [],
   "source": [
    "overlay = getCAM(activated_features.features, weight_softmax, class_idx )"
   ]
  },
  {
   "cell_type": "code",
   "execution_count": null,
   "metadata": {},
   "outputs": [],
   "source": [
    "import skimage\n",
    "original_img = np.transpose(inputs[0].numpy(), (1,2,0))\n",
    "heat_map = skimage.transform.resize(overlay[0], original_img.shape[0:2])\n",
    "plt.imshow(original_img)\n",
    "plt.imshow(heat_map, alpha=0.5, cmap='jet');"
   ]
  },
  {
   "cell_type": "code",
   "execution_count": null,
   "metadata": {},
   "outputs": [],
   "source": []
  },
  {
   "cell_type": "code",
   "execution_count": null,
   "metadata": {},
   "outputs": [],
   "source": []
  },
  {
   "cell_type": "code",
   "execution_count": null,
   "metadata": {},
   "outputs": [],
   "source": []
  },
  {
   "cell_type": "code",
   "execution_count": null,
   "metadata": {},
   "outputs": [],
   "source": [
    "#model = getModel('PreVGG16', NUM_CLASSES)\n",
    "model = resnet18(pretrained=True)\n",
    "model.fc = nn.Linear(512, NUM_CLASSES) \n",
    "\n",
    "model.eval()\n",
    "inputs, labels = next(iter(train_loader))"
   ]
  },
  {
   "cell_type": "code",
   "execution_count": null,
   "metadata": {},
   "outputs": [],
   "source": [
    "final_layer = model._modules.get('layer4')"
   ]
  },
  {
   "cell_type": "code",
   "execution_count": null,
   "metadata": {},
   "outputs": [],
   "source": [
    "activated_features = SaveFeatures(final_layer)"
   ]
  },
  {
   "cell_type": "code",
   "execution_count": null,
   "metadata": {},
   "outputs": [],
   "source": [
    "prediction = model(inputs)"
   ]
  },
  {
   "cell_type": "code",
   "execution_count": null,
   "metadata": {},
   "outputs": [],
   "source": [
    "pred_probabilities = F.softmax(prediction, 1).data.squeeze()\n",
    "activated_features.remove()"
   ]
  },
  {
   "cell_type": "code",
   "execution_count": null,
   "metadata": {},
   "outputs": [],
   "source": [
    "from torch import topk\n",
    "topk(pred_probabilities,1)"
   ]
  },
  {
   "cell_type": "code",
   "execution_count": null,
   "metadata": {},
   "outputs": [],
   "source": [
    "weight_softmax_params = list(model._modules.get('fc').parameters())\n",
    "weight_softmax = np.squeeze(weight_softmax_params[0].cpu().data.numpy())"
   ]
  },
  {
   "cell_type": "code",
   "execution_count": null,
   "metadata": {},
   "outputs": [],
   "source": [
    "class_idx = topk(pred_probabilities,1)[1].int()"
   ]
  },
  {
   "cell_type": "code",
   "execution_count": null,
   "metadata": {},
   "outputs": [],
   "source": [
    "overlay = getCAM(activated_features.features, weight_softmax, class_idx )"
   ]
  },
  {
   "cell_type": "code",
   "execution_count": null,
   "metadata": {},
   "outputs": [],
   "source": [
    "import skimage\n",
    "original_img = np.transpose(inputs[0].numpy(), (1,2,0))\n",
    "heat_map = skimage.transform.resize(overlay[0], original_img.shape[0:2])\n",
    "plt.imshow(original_img)\n",
    "plt.imshow(heat_map, alpha=0.5, cmap='jet');"
   ]
  },
  {
   "cell_type": "code",
   "execution_count": null,
   "metadata": {},
   "outputs": [],
   "source": [
    "plt.imshow(heat_map)"
   ]
  },
  {
   "cell_type": "code",
   "execution_count": null,
   "metadata": {},
   "outputs": [],
   "source": [
    "plt.imshow(heat_map, cmap='jet')"
   ]
  },
  {
   "cell_type": "markdown",
   "metadata": {},
   "source": [
    "# Grid Search"
   ]
  },
  {
   "cell_type": "code",
   "execution_count": null,
   "metadata": {
    "scrolled": false
   },
   "outputs": [],
   "source": [
    "model_name_list = []\n",
    "metric_list = []\n",
    "\n",
    "for m in MODELS:\n",
    "    for o in OPTIMIZERS:\n",
    "        for l in LOSSES:\n",
    "            \n",
    "            model = getModel(m, NUM_CLASSES)\n",
    "            \n",
    "            optimizer = getOptimizer(o, model)\n",
    "            \n",
    "            criterion = getLossFunction(l)\n",
    "            \n",
    "            model_name = f'{m}_{o}_{l}'\n",
    "            \n",
    "            tensorboard = SummaryWriter(comment = model_name)\n",
    "            \n",
    "            # Train and evaluate\n",
    "            model, best_metric = train_model(\n",
    "                model, \n",
    "                model_name, \n",
    "                dataloaders_dict, \n",
    "                criterion, \n",
    "                optimizer, \n",
    "                num_epochs=NUM_EPOCH, \n",
    "                is_inception=MODEL_LIST[m]['is_inception'])\n",
    "            \n",
    "            model_name_list.append(model_name)\n",
    "            metric_list.append(best_metric)\n",
    "            "
   ]
  },
  {
   "cell_type": "markdown",
   "metadata": {},
   "source": [
    "# The Best Model Metrics"
   ]
  },
  {
   "cell_type": "code",
   "execution_count": null,
   "metadata": {},
   "outputs": [],
   "source": [
    "fig, ax = plt.subplots()    \n",
    "width = 0.75 # the width of the bars \n",
    "ind = np.arange(len(metric_list))  # the x locations for the groups\n",
    "ax.barh(ind, metric_list, width)\n",
    "ax.set_yticks(ind+width/2)\n",
    "ax.set_yticklabels(model_name_list, minor=False)\n",
    "plt.xlabel('Loss')\n",
    "for i, v in enumerate(metric_list):\n",
    "    ax.text(v, i, str(v))"
   ]
  },
  {
   "cell_type": "code",
   "execution_count": null,
   "metadata": {},
   "outputs": [],
   "source": [
    "print(model_name_list)\n",
    "print(metric_list)"
   ]
  },
  {
   "cell_type": "markdown",
   "metadata": {},
   "source": [
    "* Janelamento 40-40. Melhor resultado:\n",
    "\n",
    "FineTuningResNet50_DefaultAdam_WeightedMultiLabelLogLoss_imgsize299_loss0.11020950659861853.pt\n",
    "FineTuningDensenet121_DefaultAdam_WeightedMultiLabelLogLoss_imgsize299_loss0.10916280491013167.pt\n",
    "\n",
    "* Janelamento 100-50. Melhor resultado:\n",
    "\n",
    "FineTuningResNet50_DefaultAdam_WeightedMultiLabelLogLoss_imgsize299_loss0.1011478987694739.pt"
   ]
  }
 ],
 "metadata": {
  "kernelspec": {
   "display_name": "Python 3",
   "language": "python",
   "name": "python3"
  },
  "language_info": {
   "codemirror_mode": {
    "name": "ipython",
    "version": 3
   },
   "file_extension": ".py",
   "mimetype": "text/x-python",
   "name": "python",
   "nbconvert_exporter": "python",
   "pygments_lexer": "ipython3",
   "version": "3.6.8"
  }
 },
 "nbformat": 4,
 "nbformat_minor": 2
}
